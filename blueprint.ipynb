{
 "cells": [
  {
   "cell_type": "code",
   "execution_count": null,
   "id": "aa7541e7",
   "metadata": {},
   "outputs": [],
   "source": [
    "from bs4 import BeautifulSoup as bs\n",
    "from selenium import webdriver\n",
    "import pandas as pd"
   ]
  },
  {
   "cell_type": "code",
   "execution_count": 2,
   "id": "1fd6a0e2",
   "metadata": {},
   "outputs": [],
   "source": [
    "driver = webdriver.Chrome()\n",
    "\n",
    "def get_fixtures(url):\n",
    "    driver.get(url)\n",
    "    soup = bs(driver.page_source, 'html.parser')\n",
    "    table = soup.find_all('table')\n",
    "    data = []\n",
    "\n",
    "    for row in table[9].find_all('tr'):\n",
    "        cols = row.find_all('td')\n",
    "        if cols:\n",
    "            data.append({\n",
    "                'DayOfWeek': cols[0].text.strip(),\n",
    "                'Date': cols[1].text.strip(),\n",
    "                'Time': cols[2].text.strip(),\n",
    "                'Home': cols[3].text.strip(),\n",
    "                'HomeExpectedGoals': cols[4].text.strip(),\n",
    "                'Result': cols[5].text.strip(),\n",
    "                'AwayExpectedGoals': cols[6].text.strip(),\n",
    "                'Away': cols[7].text.strip(),\n",
    "                'Attendance': cols[8].text.strip(),\n",
    "                'Location': cols[9].text.strip()\n",
    "            })\n",
    "\n",
    "    df = pd.DataFrame(data)\n",
    "    return df"
   ]
  },
  {
   "cell_type": "code",
   "execution_count": 3,
   "id": "e76556f8",
   "metadata": {},
   "outputs": [],
   "source": [
    "def get_raw_data(url):\n",
    "    driver.get(url)\n",
    "    soup = bs(driver.page_source, 'html.parser')\n",
    "    return soup"
   ]
  },
  {
   "cell_type": "code",
   "execution_count": null,
   "id": "5c4596f1",
   "metadata": {},
   "outputs": [],
   "source": [
    "get_raw_data"
   ]
  }
 ],
 "metadata": {
  "kernelspec": {
   "display_name": "pg",
   "language": "python",
   "name": "python3"
  },
  "language_info": {
   "codemirror_mode": {
    "name": "ipython",
    "version": 3
   },
   "file_extension": ".py",
   "mimetype": "text/x-python",
   "name": "python",
   "nbconvert_exporter": "python",
   "pygments_lexer": "ipython3",
   "version": "3.11.13"
  }
 },
 "nbformat": 4,
 "nbformat_minor": 5
}
