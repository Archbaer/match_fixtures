{
 "cells": [
  {
   "cell_type": "code",
   "execution_count": 1,
   "id": "aa7541e7",
   "metadata": {},
   "outputs": [],
   "source": [
    "from bs4 import BeautifulSoup as bs\n",
    "from selenium.webdriver.common.by import By\n",
    "from selenium.webdriver.support.ui import WebDriverWait\n",
    "from selenium.webdriver.support import expected_conditions as EC\n",
    "from selenium import webdriver\n",
    "import pandas as pd"
   ]
  },
  {
   "cell_type": "code",
   "execution_count": 2,
   "id": "1fd6a0e2",
   "metadata": {},
   "outputs": [],
   "source": [
    "driver = webdriver.Chrome()"
   ]
  },
  {
   "cell_type": "code",
   "execution_count": 17,
   "id": "e76556f8",
   "metadata": {},
   "outputs": [],
   "source": [
    "def get_raw_data(url):\n",
    "    driver.get(url)\n",
    "    WebDriverWait(driver, 10).until(EC.presence_of_element_located((By.CLASS_NAME, \"headerLeague__wrapper\")))\n",
    "\n",
    "    while True:\n",
    "        # Find all current \"Show more\" links\n",
    "        show_more_links = driver.find_elements(By.XPATH, \"//span[contains(text(), 'Show more matches')]/parent::a\")\n",
    "        if not show_more_links:\n",
    "            break  # No more links to click\n",
    "\n",
    "        for link in show_more_links:\n",
    "            try:\n",
    "                # Scroll to the link to ensure it's visible\n",
    "                driver.execute_script(\"arguments[0].scrollIntoView();\", link)\n",
    "                link.click()\n",
    "                # Wait for the link to become stale (content expanded)\n",
    "                WebDriverWait(driver, 5).until(EC.staleness_of(link))\n",
    "            except Exception:\n",
    "                pass  # Ignore if already expanded or error\n",
    "\n",
    "    soup = bs(driver.page_source, 'html.parser')\n",
    "    return soup"
   ]
  },
  {
   "cell_type": "code",
   "execution_count": 18,
   "id": "a42a0768",
   "metadata": {},
   "outputs": [],
   "source": [
    "soup = get_raw_data('https://www.livesport.com/uk/football/england/premier-league-2023-2024/results/')"
   ]
  },
  {
   "cell_type": "code",
   "execution_count": 25,
   "id": "8dbd3df2",
   "metadata": {},
   "outputs": [],
   "source": [
    "events = soup.find_all('div', class_='event__match event__match--withRowLink event__match--static event__match--twoLine')\n",
    "last_event = soup.find_all('div', class_='event__match event__match--withRowLink event__match--static event__match--last event__match--twoLine')"
   ]
  },
  {
   "cell_type": "code",
   "execution_count": 23,
   "id": "11b6a43c",
   "metadata": {},
   "outputs": [
    {
     "data": {
      "text/plain": [
       "<div class=\"event__time\">12.08. 12:30</div>"
      ]
     },
     "execution_count": 23,
     "metadata": {},
     "output_type": "execute_result"
    }
   ],
   "source": [
    "events[-1].find('div', class_='event__time')"
   ]
  },
  {
   "cell_type": "code",
   "execution_count": 29,
   "id": "432e7457",
   "metadata": {},
   "outputs": [
    {
     "data": {
      "text/plain": [
       "44"
      ]
     },
     "execution_count": 29,
     "metadata": {},
     "output_type": "execute_result"
    }
   ],
   "source": [
    "len(last_event)"
   ]
  },
  {
   "cell_type": "markdown",
   "id": "02a6deee",
   "metadata": {},
   "source": [
    "* The match fixtures are structured in rounds, as if they were individual tables separating the first to the last event of each round\n",
    "* You can use the events variable to get the regular events and the last_event to get the last event of each round respectively\n",
    "* However, despite the data exploration, there seems to be a mismatch between the length of last event and number of rounds. Which is left to be solved\n",
    "* Nonetheless, some progress was made."
   ]
  },
  {
   "cell_type": "markdown",
   "id": "c2376dca",
   "metadata": {},
   "source": [
    "# <h4>Fix the `last_event` length mismatch and craft a function to fully retrieve data</h4>"
   ]
  },
  {
   "cell_type": "code",
   "execution_count": 31,
   "id": "d8662089",
   "metadata": {},
   "outputs": [
    {
     "data": {
      "text/plain": [
       "<div class=\"event__time\">11.08. 20:00</div>"
      ]
     },
     "execution_count": 31,
     "metadata": {},
     "output_type": "execute_result"
    }
   ],
   "source": [
    "last_event[-1].find('div', class_='event__time')"
   ]
  },
  {
   "cell_type": "code",
   "execution_count": null,
   "id": "fbf601f2",
   "metadata": {},
   "outputs": [],
   "source": []
  }
 ],
 "metadata": {
  "kernelspec": {
   "display_name": "pg",
   "language": "python",
   "name": "python3"
  },
  "language_info": {
   "codemirror_mode": {
    "name": "ipython",
    "version": 3
   },
   "file_extension": ".py",
   "mimetype": "text/x-python",
   "name": "python",
   "nbconvert_exporter": "python",
   "pygments_lexer": "ipython3",
   "version": "3.11.13"
  }
 },
 "nbformat": 4,
 "nbformat_minor": 5
}
